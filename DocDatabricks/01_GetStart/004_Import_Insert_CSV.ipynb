{
 "cells": [
  {
   "cell_type": "code",
   "execution_count": 0,
   "metadata": {
    "application/vnd.databricks.v1+cell": {
     "cellMetadata": {
      "byteLimit": 2048000,
      "rowLimit": 10000
     },
     "inputWidgets": {},
     "nuid": "7c3b8691-1123-4a0a-b0ae-d9fae7b84b94",
     "showTitle": false,
     "tableResultSettingsMap": {},
     "title": ""
    }
   },
   "outputs": [],
   "source": [
    "catalog = \"devcatalog\"\n",
    "schema = \"default\"\n",
    "volume = \"baby_names\"\n",
    "file_name = \"new_baby_names.csv\"\n",
    "table_name = \"baby_names\"\n",
    "path_volume = \"/Volumes/\" + catalog + \"/\" + schema + \"/\" + volume\n",
    "path_table = catalog + \".\" + schema\n",
    "print(path_table) # Show the complete path\n",
    "print(path_volume) # Show the complete path\n",
    "\n",
    "\n",
    "catalog = \"<catalog_name>\"\n",
    "schema = \"<schema_name>\"\n",
    "volume = \"<volume_name>\"\n",
    "file_name = \"new_baby_names.csv\"\n",
    "table_name = \"baby_names\"\n",
    "path_volume = \"/Volumes/\" + catalog + \"/\" + schema + \"/\" + volume\n",
    "path_table = catalog + \".\" + schema\n",
    "print(path_table) # Show the complete path\n",
    "print(path_volume) # Show the complete path"
   ]
  },
  {
   "cell_type": "code",
   "execution_count": 0,
   "metadata": {
    "application/vnd.databricks.v1+cell": {
     "cellMetadata": {
      "byteLimit": 2048000,
      "implicitDf": true,
      "rowLimit": 10000
     },
     "inputWidgets": {},
     "nuid": "511a50ee-4625-4fdc-9d7a-737147d89968",
     "showTitle": false,
     "tableResultSettingsMap": {},
     "title": ""
    }
   },
   "outputs": [],
   "source": [
    "%sql\n",
    "use catalog devcatalog;"
   ]
  },
  {
   "cell_type": "code",
   "execution_count": 0,
   "metadata": {
    "application/vnd.databricks.v1+cell": {
     "cellMetadata": {
      "byteLimit": 2048000,
      "implicitDf": true,
      "rowLimit": 10000
     },
     "inputWidgets": {},
     "nuid": "ebcbd9a8-a0fa-48a5-9142-a3f5a1f7261f",
     "showTitle": false,
     "tableResultSettingsMap": {},
     "title": ""
    },
    "jupyter": {
     "outputs_hidden": true
    }
   },
   "outputs": [],
   "source": [
    "%sql\n",
    "CREATE VOLUME if not exists devcatalog.default.baby_names;"
   ]
  },
  {
   "cell_type": "code",
   "execution_count": 0,
   "metadata": {
    "application/vnd.databricks.v1+cell": {
     "cellMetadata": {
      "byteLimit": 2048000,
      "implicitDf": true,
      "rowLimit": 10000
     },
     "inputWidgets": {},
     "nuid": "02a3176a-8eaf-4a00-ab6d-95febcd0f5be",
     "showTitle": false,
     "tableResultSettingsMap": {},
     "title": ""
    }
   },
   "outputs": [],
   "source": [
    "%sql\n",
    "show volumes"
   ]
  },
  {
   "cell_type": "code",
   "execution_count": 0,
   "metadata": {
    "application/vnd.databricks.v1+cell": {
     "cellMetadata": {
      "byteLimit": 2048000,
      "rowLimit": 10000
     },
     "inputWidgets": {},
     "nuid": "33e64a04-af60-4aaf-829b-fd7f01d57bb5",
     "showTitle": false,
     "tableResultSettingsMap": {},
     "title": ""
    }
   },
   "outputs": [],
   "source": [
    "data = [[2022, \"CARL\", \"Albany\", \"M\", 42]]\n",
    "\n",
    "df = spark.createDataFrame(data, schema=\"Year int, First_Name STRING, County STRING, Sex STRING, Count int\")\n",
    "# display(df)\n",
    "(df.coalesce(1)\n",
    "    .write\n",
    "    .option(\"header\", \"true\")\n",
    "    .mode(\"overwrite\")\n",
    "    .csv(f\"{path_volume}/{file_name}\"))"
   ]
  },
  {
   "cell_type": "code",
   "execution_count": 0,
   "metadata": {
    "application/vnd.databricks.v1+cell": {
     "cellMetadata": {
      "byteLimit": 2048000,
      "rowLimit": 10000
     },
     "inputWidgets": {},
     "nuid": "7286a753-ef63-44d4-8035-38421ac23539",
     "showTitle": false,
     "tableResultSettingsMap": {},
     "title": ""
    }
   },
   "outputs": [],
   "source": [
    "df=spark.read.csv(path=f\"{path_volume}/{file_name}\", header=True, inferSchema=True, sep=',')\n",
    "display(df)"
   ]
  },
  {
   "cell_type": "code",
   "execution_count": 0,
   "metadata": {
    "application/vnd.databricks.v1+cell": {
     "cellMetadata": {
      "byteLimit": 2048000,
      "implicitDf": true,
      "rowLimit": 10000
     },
     "inputWidgets": {},
     "nuid": "b003a4b1-d65c-49d5-941c-c1aceff6241b",
     "showTitle": false,
     "tableResultSettingsMap": {},
     "title": ""
    }
   },
   "outputs": [],
   "source": [
    "%sql\n",
    "use default"
   ]
  },
  {
   "cell_type": "code",
   "execution_count": 0,
   "metadata": {
    "application/vnd.databricks.v1+cell": {
     "cellMetadata": {
      "byteLimit": 2048000,
      "rowLimit": 10000
     },
     "inputWidgets": {},
     "nuid": "8e441bab-5779-4c7d-8f23-f8d36d3c73dd",
     "showTitle": false,
     "tableResultSettingsMap": {},
     "title": ""
    }
   },
   "outputs": [],
   "source": [
    "df.write.mode(\"append\").insertInto(f\"{path_table}.{table_name}\")\n",
    "display(spark.sql(f\"SELECT * FROM {path_table}.{table_name} WHERE Year = 2022\"))"
   ]
  },
  {
   "cell_type": "code",
   "execution_count": 0,
   "metadata": {
    "application/vnd.databricks.v1+cell": {
     "cellMetadata": {},
     "inputWidgets": {},
     "nuid": "6925bd61-d028-4c65-b3b5-45bdf5ae623a",
     "showTitle": false,
     "tableResultSettingsMap": {},
     "title": ""
    }
   },
   "outputs": [],
   "source": []
  }
 ],
 "metadata": {
  "application/vnd.databricks.v1+notebook": {
   "dashboards": [],
   "environmentMetadata": null,
   "language": "python",
   "notebookMetadata": {
    "mostRecentlyExecutedCommandWithImplicitDF": {
     "commandId": 2074901159287270,
     "dataframes": [
      "_sqldf"
     ]
    },
    "pythonIndentUnit": 4
   },
   "notebookName": "004_Import_Insert_CSV",
   "widgets": {}
  },
  "language_info": {
   "name": "python"
  }
 },
 "nbformat": 4,
 "nbformat_minor": 0
}
