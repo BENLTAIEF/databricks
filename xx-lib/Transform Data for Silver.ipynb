{
 "cells": [
  {
   "cell_type": "code",
   "execution_count": 0,
   "metadata": {
    "application/vnd.databricks.v1+cell": {
     "cellMetadata": {},
     "inputWidgets": {},
     "nuid": "58c9c5fa-9665-4dde-b779-45f900a9f5e1",
     "showTitle": false,
     "tableResultSettingsMap": {},
     "title": ""
    },
    "collapsed": false
   },
   "outputs": [],
   "source": [
    " from pyspark.sql.types import *\n",
    "    \n",
    " # Create the schema for the table\n",
    " orderSchema = StructType([\n",
    "     StructField(\"SalesOrderNumber\", StringType()),\n",
    "     StructField(\"SalesOrderLineNumber\", IntegerType()),\n",
    "     StructField(\"OrderDate\", DateType()),\n",
    "     StructField(\"CustomerName\", StringType()),\n",
    "     StructField(\"Email\", StringType()),\n",
    "     StructField(\"Item\", StringType()),\n",
    "     StructField(\"Quantity\", IntegerType()),\n",
    "     StructField(\"UnitPrice\", FloatType()),\n",
    "     StructField(\"Tax\", FloatType())\n",
    "     ])\n",
    "    \n",
    " # Import all files from bronze folder of lakehouse\n",
    " df = spark.read.format(\"csv\").option(\"header\", \"true\").schema(orderSchema).load(\"Files/bronze/*.csv\")\n",
    "    \n",
    " # Display the first 10 rows of the dataframe to preview your data\n",
    " display(df.head(10))"
   ]
  },
  {
   "cell_type": "code",
   "execution_count": 0,
   "metadata": {
    "application/vnd.databricks.v1+cell": {
     "cellMetadata": {},
     "inputWidgets": {},
     "nuid": "186b49e7-9e3b-4a37-88ec-e4b624a2cd49",
     "showTitle": false,
     "tableResultSettingsMap": {},
     "title": ""
    },
    "nteract": {
     "transient": {
      "deleting": false
     }
    }
   },
   "outputs": [],
   "source": [
    " from pyspark.sql.functions import when, lit, col, current_timestamp, input_file_name\n",
    "    \n",
    " # Add columns IsFlagged, CreatedTS and ModifiedTS\n",
    " df = df.withColumn(\"FileName\", input_file_name()) \\\n",
    "     .withColumn(\"IsFlagged\", when(col(\"OrderDate\") < '2019-08-01',True).otherwise(False)) \\\n",
    "     .withColumn(\"CreatedTS\", current_timestamp()).withColumn(\"ModifiedTS\", current_timestamp())\n",
    "    \n",
    " # Update CustomerName to \"Unknown\" if CustomerName null or empty\n",
    " df = df.withColumn(\"CustomerName\", when((col(\"CustomerName\").isNull() | (col(\"CustomerName\")==\"\")),lit(\"Unknown\")).otherwise(col(\"CustomerName\")))"
   ]
  },
  {
   "cell_type": "code",
   "execution_count": 0,
   "metadata": {
    "application/vnd.databricks.v1+cell": {
     "cellMetadata": {},
     "inputWidgets": {},
     "nuid": "0925dad5-949f-4f0c-9055-1896a656f785",
     "showTitle": false,
     "tableResultSettingsMap": {},
     "title": ""
    },
    "collapsed": false,
    "microsoft": {
     "language": "sparksql"
    },
    "nteract": {
     "transient": {
      "deleting": false
     }
    }
   },
   "outputs": [],
   "source": [
    "%%sql\n",
    "use LAKE02"
   ]
  },
  {
   "cell_type": "code",
   "execution_count": 0,
   "metadata": {
    "application/vnd.databricks.v1+cell": {
     "cellMetadata": {},
     "inputWidgets": {},
     "nuid": "451fff59-d96a-4d9a-9edb-b5b835ad53b9",
     "showTitle": false,
     "tableResultSettingsMap": {},
     "title": ""
    },
    "collapsed": false,
    "microsoft": {
     "language": "sparksql"
    },
    "nteract": {
     "transient": {
      "deleting": false
     }
    }
   },
   "outputs": [],
   "source": [
    "%%sql\n",
    "CREATE TABLE sales_silver(\n",
    "    SalesOrderNumber string\n",
    "    ,SalesOrderLineNumber int\n",
    "    ,OrderDate date\n",
    "    ,CustomerName string\n",
    "    ,Email string\n",
    "    ,Item string\n",
    "    ,Quantity int\n",
    "    ,UnitPrice float\n",
    "    ,Tax float\n",
    "    ,FileName string\n",
    "    ,IsFlagged boolean\n",
    "    ,CustomerID bigint\n",
    "    ,ItemID bigint\n",
    "    ,CreatedTS date\n",
    "    ,ModifiedTS date\n",
    ")using DELTA;"
   ]
  },
  {
   "cell_type": "code",
   "execution_count": 0,
   "metadata": {
    "application/vnd.databricks.v1+cell": {
     "cellMetadata": {},
     "inputWidgets": {},
     "nuid": "72089d3a-7e42-4469-8e54-071509102c28",
     "showTitle": false,
     "tableResultSettingsMap": {},
     "title": ""
    },
    "nteract": {
     "transient": {
      "deleting": false
     }
    }
   },
   "outputs": [],
   "source": [
    " # Define the schema for the sales_silver table\n",
    "    \n",
    " from pyspark.sql.types import *\n",
    " from delta.tables import *\n",
    "    \n",
    " DeltaTable.createIfNotExists(spark) \\\n",
    "     .tableName(\"lake02.sales_silver\") \\\n",
    "     .addColumn(\"SalesOrderNumber\", StringType()) \\\n",
    "     .addColumn(\"SalesOrderLineNumber\", IntegerType()) \\\n",
    "     .addColumn(\"OrderDate\", DateType()) \\\n",
    "     .addColumn(\"CustomerName\", StringType()) \\\n",
    "     .addColumn(\"Email\", StringType()) \\\n",
    "     .addColumn(\"Item\", StringType()) \\\n",
    "     .addColumn(\"Quantity\", IntegerType()) \\\n",
    "     .addColumn(\"UnitPrice\", FloatType()) \\\n",
    "     .addColumn(\"Tax\", FloatType()) \\\n",
    "     .addColumn(\"FileName\", StringType()) \\\n",
    "     .addColumn(\"IsFlagged\", BooleanType()) \\\n",
    "     .addColumn(\"CreatedTS\", DateType()) \\\n",
    "     .addColumn(\"ModifiedTS\", DateType()) \\\n",
    "     .execute()"
   ]
  },
  {
   "cell_type": "code",
   "execution_count": 0,
   "metadata": {
    "application/vnd.databricks.v1+cell": {
     "cellMetadata": {},
     "inputWidgets": {},
     "nuid": "15e7e2b8-9afe-4abe-9687-cbd76e18af20",
     "showTitle": false,
     "tableResultSettingsMap": {},
     "title": ""
    },
    "nteract": {
     "transient": {
      "deleting": false
     }
    }
   },
   "outputs": [],
   "source": [
    "# Update existing records and insert new ones based on a condition defined by the columns SalesOrderNumber, OrderDate, CustomerName, and Item.\n",
    "\n",
    "from delta.tables import *\n",
    "    \n",
    "deltaTable = DeltaTable.forPath(spark, 'Tables/sales_silver')\n",
    "    \n",
    "dfUpdates = df\n",
    "    \n",
    "deltaTable.alias('silver') \\\n",
    "  .merge(\n",
    "    dfUpdates.alias('updates'),\n",
    "    'silver.SalesOrderNumber = updates.SalesOrderNumber and silver.OrderDate = updates.OrderDate and silver.CustomerName = updates.CustomerName and silver.Item = updates.Item'\n",
    "  ) \\\n",
    "   .whenMatchedUpdate(set =\n",
    "    {\n",
    "          \n",
    "    }\n",
    "  ) \\\n",
    " .whenNotMatchedInsert(values =\n",
    "    {\n",
    "      \"SalesOrderNumber\": \"updates.SalesOrderNumber\",\n",
    "      \"SalesOrderLineNumber\": \"updates.SalesOrderLineNumber\",\n",
    "      \"OrderDate\": \"updates.OrderDate\",\n",
    "      \"CustomerName\": \"updates.CustomerName\",\n",
    "      \"Email\": \"updates.Email\",\n",
    "      \"Item\": \"updates.Item\",\n",
    "      \"Quantity\": \"updates.Quantity\",\n",
    "      \"UnitPrice\": \"updates.UnitPrice\",\n",
    "      \"Tax\": \"updates.Tax\",\n",
    "      \"FileName\": \"updates.FileName\",\n",
    "      \"IsFlagged\": \"updates.IsFlagged\",\n",
    "      \"CreatedTS\": \"updates.CreatedTS\",\n",
    "      \"ModifiedTS\": \"updates.ModifiedTS\"\n",
    "    }\n",
    "  ) \\\n",
    "  .execute()"
   ]
  },
  {
   "cell_type": "code",
   "execution_count": 0,
   "metadata": {
    "application/vnd.databricks.v1+cell": {
     "cellMetadata": {},
     "inputWidgets": {},
     "nuid": "d1ae384d-22f4-471d-97f2-3757e5f8d66e",
     "showTitle": false,
     "tableResultSettingsMap": {},
     "title": ""
    },
    "nteract": {
     "transient": {
      "deleting": false
     }
    }
   },
   "outputs": [],
   "source": [
    " # Load data to the dataframe as a starting point to create the gold layer\n",
    " silver_df = spark.read.table(\"lake02.sales_silver\")"
   ]
  },
  {
   "cell_type": "code",
   "execution_count": 0,
   "metadata": {
    "application/vnd.databricks.v1+cell": {
     "cellMetadata": {},
     "inputWidgets": {},
     "nuid": "9c15a7ac-ef13-41cf-9c92-eadf5e9d28b7",
     "showTitle": false,
     "tableResultSettingsMap": {},
     "title": ""
    },
    "nteract": {
     "transient": {
      "deleting": false
     }
    }
   },
   "outputs": [],
   "source": [
    " from pyspark.sql.types import *\n",
    " from delta.tables import*\n",
    "    \n",
    " # Define the schema for the dimdate_gold table\n",
    " DeltaTable.createIfNotExists(spark) \\\n",
    "     .tableName(\"lake02.dimdate_gold\") \\\n",
    "     .addColumn(\"OrderDate\", DateType()) \\\n",
    "     .addColumn(\"Day\", IntegerType()) \\\n",
    "     .addColumn(\"Month\", IntegerType()) \\\n",
    "     .addColumn(\"Year\", IntegerType()) \\\n",
    "     .addColumn(\"mmmyyyy\", StringType()) \\\n",
    "     .addColumn(\"yyyymm\", StringType()) \\\n",
    "     .execute()"
   ]
  },
  {
   "cell_type": "code",
   "execution_count": 0,
   "metadata": {
    "application/vnd.databricks.v1+cell": {
     "cellMetadata": {},
     "inputWidgets": {},
     "nuid": "7a14f2f8-60ff-4849-a6fc-e54e467d03ec",
     "showTitle": false,
     "tableResultSettingsMap": {},
     "title": ""
    },
    "collapsed": false,
    "nteract": {
     "transient": {
      "deleting": false
     }
    }
   },
   "outputs": [],
   "source": [
    " from pyspark.sql.functions import col, dayofmonth, month, year, date_format\n",
    "    \n",
    " # Create dataframe for dimDate_gold\n",
    "    \n",
    " dfdimDate_gold = df.dropDuplicates([\"OrderDate\"]).select(col(\"OrderDate\"), \\\n",
    "         dayofmonth(\"OrderDate\").alias(\"Day\"), \\\n",
    "         month(\"OrderDate\").alias(\"Month\"), \\\n",
    "         year(\"OrderDate\").alias(\"Year\"), \\\n",
    "         date_format(col(\"OrderDate\"), \"MMM-yyyy\").alias(\"mmmyyyy\"), \\\n",
    "         date_format(col(\"OrderDate\"), \"yyyyMM\").alias(\"yyyymm\"), \\\n",
    "     ).orderBy(\"OrderDate\")\n",
    "\n",
    " # Display the first 10 rows of the dataframe to preview your data\n",
    "\n",
    " display(dfdimDate_gold.head(10))"
   ]
  },
  {
   "cell_type": "code",
   "execution_count": 0,
   "metadata": {
    "application/vnd.databricks.v1+cell": {
     "cellMetadata": {},
     "inputWidgets": {},
     "nuid": "cf6ee4e8-e7d0-4270-901b-5535dc6c5cdb",
     "showTitle": false,
     "tableResultSettingsMap": {},
     "title": ""
    },
    "nteract": {
     "transient": {
      "deleting": false
     }
    }
   },
   "outputs": [],
   "source": [
    " from delta.tables import *\n",
    "    \n",
    " deltaTable = DeltaTable.forPath(spark, 'Tables/dimdate_gold')\n",
    "    \n",
    " dfUpdates = dfdimDate_gold\n",
    "    \n",
    " deltaTable.alias('silver') \\\n",
    "   .merge(\n",
    "     dfUpdates.alias('updates'),\n",
    "     'silver.OrderDate = updates.OrderDate'\n",
    "   ) \\\n",
    "    .whenMatchedUpdate(set =\n",
    "     {\n",
    "          \n",
    "     }\n",
    "   ) \\\n",
    "  .whenNotMatchedInsert(values =\n",
    "     {\n",
    "       \"OrderDate\": \"updates.OrderDate\",\n",
    "       \"Day\": \"updates.Day\",\n",
    "       \"Month\": \"updates.Month\",\n",
    "       \"Year\": \"updates.Year\",\n",
    "       \"mmmyyyy\": \"updates.mmmyyyy\",\n",
    "       \"yyyymm\": \"yyyymm\"\n",
    "     }\n",
    "   ) \\\n",
    "   .execute()"
   ]
  },
  {
   "cell_type": "code",
   "execution_count": 0,
   "metadata": {
    "application/vnd.databricks.v1+cell": {
     "cellMetadata": {},
     "inputWidgets": {},
     "nuid": "c4113f6d-1aae-48d3-96d4-394370551f0d",
     "showTitle": false,
     "tableResultSettingsMap": {},
     "title": ""
    },
    "nteract": {
     "transient": {
      "deleting": false
     }
    }
   },
   "outputs": [],
   "source": [
    " from pyspark.sql.types import *\n",
    " from delta.tables import *\n",
    "    \n",
    " # Create customer_gold dimension delta table\n",
    " DeltaTable.createIfNotExists(spark) \\\n",
    "     .tableName(\"lake02.dimcustomer_gold\") \\\n",
    "     .addColumn(\"CustomerName\", StringType()) \\\n",
    "     .addColumn(\"Email\",  StringType()) \\\n",
    "     .addColumn(\"First\", StringType()) \\\n",
    "     .addColumn(\"Last\", StringType()) \\\n",
    "     .addColumn(\"CustomerID\", LongType()) \\\n",
    "     .execute()"
   ]
  },
  {
   "cell_type": "code",
   "execution_count": 0,
   "metadata": {
    "application/vnd.databricks.v1+cell": {
     "cellMetadata": {},
     "inputWidgets": {},
     "nuid": "efa085dc-9993-441b-ac9b-03ff3ab1641e",
     "showTitle": false,
     "tableResultSettingsMap": {},
     "title": ""
    },
    "collapsed": false,
    "nteract": {
     "transient": {
      "deleting": false
     }
    }
   },
   "outputs": [],
   "source": [
    " from pyspark.sql.functions import col, split\n",
    "    \n",
    " # Create customer_silver dataframe\n",
    "    \n",
    " dfdimCustomer_silver = df.dropDuplicates([\"CustomerName\",\"Email\"]).select(col(\"CustomerName\"),col(\"Email\")) \\\n",
    "     .withColumn(\"First\",split(col(\"CustomerName\"), \" \").getItem(0)) \\\n",
    "     .withColumn(\"Last\",split(col(\"CustomerName\"), \" \").getItem(1)) \n",
    "    \n",
    " # Display the first 10 rows of the dataframe to preview your data\n",
    "\n",
    " display(dfdimCustomer_silver.head(10))"
   ]
  },
  {
   "cell_type": "code",
   "execution_count": 0,
   "metadata": {
    "application/vnd.databricks.v1+cell": {
     "cellMetadata": {},
     "inputWidgets": {},
     "nuid": "a37d05f2-54f4-419d-89a8-8293b65f3742",
     "showTitle": false,
     "tableResultSettingsMap": {},
     "title": ""
    },
    "collapsed": false,
    "nteract": {
     "transient": {
      "deleting": false
     }
    }
   },
   "outputs": [],
   "source": [
    " from pyspark.sql.functions import monotonically_increasing_id, col, when, coalesce, max, lit\n",
    "    \n",
    " dfdimCustomer_temp = spark.read.table(\"lake02.dimCustomer_gold\")\n",
    "    \n",
    " MAXCustomerID = dfdimCustomer_temp.select(coalesce(max(col(\"CustomerID\")),lit(0)).alias(\"MAXCustomerID\")).first()[0]\n",
    "    \n",
    " dfdimCustomer_gold = dfdimCustomer_silver.join(dfdimCustomer_temp,(dfdimCustomer_silver.CustomerName == dfdimCustomer_temp.CustomerName) & (dfdimCustomer_silver.Email == dfdimCustomer_temp.Email), \"left_anti\")\n",
    "    \n",
    " dfdimCustomer_gold = dfdimCustomer_gold.withColumn(\"CustomerID\",monotonically_increasing_id() + MAXCustomerID + 1)\n",
    "\n",
    " # Display the first 10 rows of the dataframe to preview your data\n",
    "\n",
    " display(dfdimCustomer_gold.head(10))"
   ]
  },
  {
   "cell_type": "code",
   "execution_count": 0,
   "metadata": {
    "application/vnd.databricks.v1+cell": {
     "cellMetadata": {},
     "inputWidgets": {},
     "nuid": "0556bbec-2821-4d8b-9680-f06167dd65c6",
     "showTitle": false,
     "tableResultSettingsMap": {},
     "title": ""
    },
    "nteract": {
     "transient": {
      "deleting": false
     }
    }
   },
   "outputs": [],
   "source": [
    "from delta.tables import *\n",
    "\n",
    "deltaTable = DeltaTable.forPath(spark, 'Tables/dimcustomer_gold')\n",
    "    \n",
    "dfUpdates = dfdimCustomer_gold\n",
    "    \n",
    "deltaTable.alias('silver') \\\n",
    "    .merge(dfUpdates.alias('updates'), 'silver.CustomerName = updates.CustomerName AND silver.Email = updates.Email') \\\n",
    "    .whenMatchedUpdate(set ={}) \\\n",
    "    .whenNotMatchedInsert(values =\n",
    "        {\n",
    "            \"CustomerName\": \"updates.CustomerName\",\n",
    "            \"Email\": \"updates.Email\",\n",
    "            \"First\": \"updates.First\",\n",
    "            \"Last\": \"updates.Last\",\n",
    "            \"CustomerID\": \"updates.CustomerID\"\n",
    "        }\n",
    "    ) \\\n",
    "    .execute()"
   ]
  },
  {
   "cell_type": "code",
   "execution_count": 0,
   "metadata": {
    "application/vnd.databricks.v1+cell": {
     "cellMetadata": {},
     "inputWidgets": {},
     "nuid": "ae82b479-31b6-4f4c-89c2-36a6353fc353",
     "showTitle": false,
     "tableResultSettingsMap": {},
     "title": ""
    },
    "nteract": {
     "transient": {
      "deleting": false
     }
    }
   },
   "outputs": [],
   "source": [
    "from pyspark.sql.types import *\n",
    "from delta.tables import *\n",
    "    \n",
    "DeltaTable.createIfNotExists(spark) \\\n",
    "    .tableName(\"lake02.dimproduct_gold\") \\\n",
    "    .addColumn(\"ItemName\", StringType()) \\\n",
    "    .addColumn(\"ItemID\", LongType()) \\\n",
    "    .addColumn(\"ItemInfo\", StringType()) \\\n",
    "    .execute()"
   ]
  },
  {
   "cell_type": "code",
   "execution_count": 0,
   "metadata": {
    "application/vnd.databricks.v1+cell": {
     "cellMetadata": {},
     "inputWidgets": {},
     "nuid": "e4c93dcb-15f3-4acc-ad9d-f441bd00902a",
     "showTitle": false,
     "tableResultSettingsMap": {},
     "title": ""
    },
    "collapsed": false,
    "nteract": {
     "transient": {
      "deleting": false
     }
    }
   },
   "outputs": [],
   "source": [
    "from pyspark.sql.functions import col, split, lit\n",
    "    \n",
    "# Create product_silver dataframe\n",
    "    \n",
    "dfdimProduct_silver = df.dropDuplicates([\"Item\"]).select(col(\"Item\")) \\\n",
    "    .withColumn(\"ItemName\",split(col(\"Item\"), \", \").getItem(0)) \\\n",
    "    .withColumn(\"ItemInfo\",when((split(col(\"Item\"), \", \").getItem(1).isNull() | (split(col(\"Item\"), \", \").getItem(1)==\"\")),lit(\"\")).otherwise(split(col(\"Item\"), \", \").getItem(1))) \n",
    "    \n",
    "# Display the first 10 rows of the dataframe to preview your data\n",
    "\n",
    "display(dfdimProduct_silver.head(10))"
   ]
  },
  {
   "cell_type": "code",
   "execution_count": 0,
   "metadata": {
    "application/vnd.databricks.v1+cell": {
     "cellMetadata": {},
     "inputWidgets": {},
     "nuid": "452c868d-186f-4430-9434-5b2cc59dfa3a",
     "showTitle": false,
     "tableResultSettingsMap": {},
     "title": ""
    },
    "collapsed": false,
    "nteract": {
     "transient": {
      "deleting": false
     }
    }
   },
   "outputs": [],
   "source": [
    "from pyspark.sql.functions import monotonically_increasing_id, col, lit, max, coalesce\n",
    "    \n",
    "#dfdimProduct_temp = dfdimProduct_silver\n",
    "dfdimProduct_temp = spark.read.table(\"lake02.dimProduct_gold\")\n",
    "MAXProductID = dfdimProduct_temp.select(coalesce(max(col(\"ItemID\")),lit(0)).alias(\"MAXItemID\")).first()[0]\n",
    "dfdimProduct_gold = dfdimProduct_silver.join(dfdimProduct_temp,(dfdimProduct_silver.ItemName == dfdimProduct_temp.ItemName) & (dfdimProduct_silver.ItemInfo == dfdimProduct_temp.ItemInfo), \"left_anti\")\n",
    "dfdimProduct_gold = dfdimProduct_gold.withColumn(\"ItemID\",monotonically_increasing_id() + MAXProductID + 1)\n",
    "# Display the first 10 rows of the dataframe to preview your data\n",
    "display(dfdimProduct_gold.head(10))"
   ]
  },
  {
   "cell_type": "code",
   "execution_count": 0,
   "metadata": {
    "application/vnd.databricks.v1+cell": {
     "cellMetadata": {},
     "inputWidgets": {},
     "nuid": "78a49f23-f64c-4d7d-90c7-9f807b6237aa",
     "showTitle": false,
     "tableResultSettingsMap": {},
     "title": ""
    },
    "nteract": {
     "transient": {
      "deleting": false
     }
    }
   },
   "outputs": [],
   "source": [
    "from delta.tables import *\n",
    "    \n",
    "deltaTable = DeltaTable.forPath(spark, 'Tables/dimproduct_gold')\n",
    "            \n",
    "dfUpdates = dfdimProduct_gold\n",
    "            \n",
    "deltaTable.alias('silver') \\\n",
    "    .merge(dfUpdates.alias('updates'), 'silver.ItemName = updates.ItemName AND silver.ItemInfo = updates.ItemInfo') \\\n",
    "    .whenMatchedUpdate(set = {}) \\\n",
    "    .whenNotMatchedInsert(values =\n",
    "        {\n",
    "        \"ItemName\": \"updates.ItemName\",\n",
    "        \"ItemInfo\": \"updates.ItemInfo\",\n",
    "        \"ItemID\": \"updates.ItemID\"\n",
    "        }\n",
    "    ) \\\n",
    "    .execute()"
   ]
  },
  {
   "cell_type": "code",
   "execution_count": 0,
   "metadata": {
    "application/vnd.databricks.v1+cell": {
     "cellMetadata": {},
     "inputWidgets": {},
     "nuid": "e7b76c7b-a06e-47d4-a6bf-e40ca7823f6b",
     "showTitle": false,
     "tableResultSettingsMap": {},
     "title": ""
    },
    "nteract": {
     "transient": {
      "deleting": false
     }
    }
   },
   "outputs": [],
   "source": [
    "from pyspark.sql.types import *\n",
    "from delta.tables import *\n",
    "    \n",
    "DeltaTable.createIfNotExists(spark) \\\n",
    "    .tableName(\"lake02.factsales_gold\") \\\n",
    "    .addColumn(\"CustomerID\", LongType()) \\\n",
    "    .addColumn(\"ItemID\", LongType()) \\\n",
    "    .addColumn(\"OrderDate\", DateType()) \\\n",
    "    .addColumn(\"Quantity\", IntegerType()) \\\n",
    "    .addColumn(\"UnitPrice\", FloatType()) \\\n",
    "    .addColumn(\"Tax\", FloatType()) \\\n",
    "    .execute()"
   ]
  },
  {
   "cell_type": "code",
   "execution_count": 0,
   "metadata": {
    "application/vnd.databricks.v1+cell": {
     "cellMetadata": {},
     "inputWidgets": {},
     "nuid": "1844747d-069d-450c-90a7-a61e97eab689",
     "showTitle": false,
     "tableResultSettingsMap": {},
     "title": ""
    },
    "collapsed": false,
    "nteract": {
     "transient": {
      "deleting": false
     }
    }
   },
   "outputs": [],
   "source": [
    "from pyspark.sql.functions import col\n",
    "    \n",
    "dfdimCustomer_temp = spark.read.table(\"lake02.dimCustomer_gold\")\n",
    "dfdimProduct_temp = spark.read.table(\"lake02.dimProduct_gold\")\n",
    "    \n",
    "df = df.withColumn(\"ItemName\",split(col(\"Item\"), \", \").getItem(0)) \\\n",
    "    .withColumn(\"ItemInfo\",when((split(col(\"Item\"), \", \").getItem(1).isNull() | (split(col(\"Item\"), \", \").getItem(1)==\"\")),lit(\"\")).otherwise(split(col(\"Item\"), \", \").getItem(1))) \\\n",
    "    \n",
    "    \n",
    "# Create Sales_gold dataframe\n",
    "    \n",
    "dffactSales_gold = df.alias(\"df1\").join(dfdimCustomer_temp.alias(\"df2\"),(df.CustomerName == dfdimCustomer_temp.CustomerName) & (df.Email == dfdimCustomer_temp.Email), \"left\") \\\n",
    "        .join(dfdimProduct_temp.alias(\"df3\"),(df.ItemName == dfdimProduct_temp.ItemName) & (df.ItemInfo == dfdimProduct_temp.ItemInfo), \"left\") \\\n",
    "    .select(col(\"df2.CustomerID\") \\\n",
    "        , col(\"df3.ItemID\") \\\n",
    "        , col(\"df1.OrderDate\") \\\n",
    "        , col(\"df1.Quantity\") \\\n",
    "        , col(\"df1.UnitPrice\") \\\n",
    "        , col(\"df1.Tax\") \\\n",
    "    ).orderBy(col(\"df1.OrderDate\"), col(\"df2.CustomerID\"), col(\"df3.ItemID\"))\n",
    "    \n",
    "# Display the first 10 rows of the dataframe to preview your data\n",
    "    \n",
    "display(dffactSales_gold.head(10))"
   ]
  },
  {
   "cell_type": "code",
   "execution_count": 0,
   "metadata": {
    "application/vnd.databricks.v1+cell": {
     "cellMetadata": {},
     "inputWidgets": {},
     "nuid": "a9ac09de-d0d0-424d-90c9-766a350a3705",
     "showTitle": false,
     "tableResultSettingsMap": {},
     "title": ""
    },
    "nteract": {
     "transient": {
      "deleting": false
     }
    }
   },
   "outputs": [],
   "source": [
    "from delta.tables import *\n",
    "    \n",
    "deltaTable = DeltaTable.forPath(spark, 'Tables/factsales_gold')\n",
    "dfUpdates = dffactSales_gold\n",
    "deltaTable.alias('silver') \\\n",
    "    .merge(dfUpdates.alias('updates'), 'silver.OrderDate = updates.OrderDate AND silver.CustomerID = updates.CustomerID AND silver.ItemID = updates.ItemID') \\\n",
    "    .whenMatchedUpdate(set = { }) \\\n",
    "    .whenNotMatchedInsert(values =\n",
    "        {\n",
    "        \"CustomerID\": \"updates.CustomerID\",\n",
    "        \"ItemID\": \"updates.ItemID\",\n",
    "        \"OrderDate\": \"updates.OrderDate\",\n",
    "        \"Quantity\": \"updates.Quantity\",\n",
    "        \"UnitPrice\": \"updates.UnitPrice\",\n",
    "        \"Tax\": \"updates.Tax\"\n",
    "        }\n",
    "    ) \\\n",
    "    .execute()"
   ]
  }
 ],
 "metadata": {
  "application/vnd.databricks.v1+notebook": {
   "dashboards": [],
   "environmentMetadata": null,
   "language": "python",
   "notebookMetadata": {
    "pythonIndentUnit": 4
   },
   "notebookName": "Transform Data for Silver",
   "widgets": {}
  },
  "dependencies": {
   "lakehouse": {
    "default_lakehouse": "f60f637a-0166-4817-8e37-e5c85c6db5b7",
    "default_lakehouse_name": "LAKE02",
    "default_lakehouse_workspace_id": "0d3ef2d4-b1b9-43da-a091-86a8c2346489"
   }
  },
  "kernel_info": {
   "name": "synapse_pyspark"
  },
  "kernelspec": {
   "display_name": "Synapse PySpark",
   "language": "Python",
   "name": "synapse_pyspark"
  },
  "language_info": {
   "name": "python"
  },
  "microsoft": {
   "language": "python"
  },
  "nteract": {
   "version": "nteract-front-end@1.0.0"
  },
  "spark_compute": {
   "compute_id": "/trident/default"
  },
  "synapse_widget": {
   "state": {
    "0ba61313-4985-4646-b7f0-5e901e77ce18": {
     "persist_state": {
      "view": {
       "chartOptions": {
        "aggregationType": "count",
        "binsNumber": 10,
        "categoryFieldKeys": [
         "0"
        ],
        "chartType": "bar",
        "isStacked": false,
        "seriesFieldKeys": [
         "0"
        ],
        "wordFrequency": "-1"
       },
       "tableOptions": {},
       "type": "details"
      }
     },
     "sync_state": {
      "isSummary": false,
      "language": "scala",
      "table": {
       "rows": [
        {
         "0": "Bridget Andersen",
         "1": "bridget15@adventure-works.com",
         "2": "Bridget",
         "3": "Andersen",
         "index": 1
        },
        {
         "0": "Mya Butler",
         "1": "mya14@adventure-works.com",
         "2": "Mya",
         "3": "Butler",
         "index": 2
        },
        {
         "0": "Deanna Hernandez",
         "1": "deanna29@adventure-works.com",
         "2": "Deanna",
         "3": "Hernandez",
         "index": 3
        },
        {
         "0": "Ricky Navarro",
         "1": "ricky10@adventure-works.com",
         "2": "Ricky",
         "3": "Navarro",
         "index": 4
        },
        {
         "0": "Omar Ye",
         "1": "omar9@adventure-works.com",
         "2": "Omar",
         "3": "Ye",
         "index": 5
        },
        {
         "0": "Kellie Gutierrez",
         "1": "kellie9@adventure-works.com",
         "2": "Kellie",
         "3": "Gutierrez",
         "index": 6
        },
        {
         "0": "Raymond Rana",
         "1": "raymond13@adventure-works.com",
         "2": "Raymond",
         "3": "Rana",
         "index": 7
        },
        {
         "0": "Derrick Moreno",
         "1": "derrick6@adventure-works.com",
         "2": "Derrick",
         "3": "Moreno",
         "index": 8
        },
        {
         "0": "Megan Walker",
         "1": "megan25@adventure-works.com",
         "2": "Megan",
         "3": "Walker",
         "index": 9
        },
        {
         "0": "Edward Jackson",
         "1": "edward34@adventure-works.com",
         "2": "Edward",
         "3": "Jackson",
         "index": 10
        }
       ],
       "schema": [
        {
         "key": "0",
         "name": "CustomerName",
         "type": "string"
        },
        {
         "key": "1",
         "name": "Email",
         "type": "string"
        },
        {
         "key": "2",
         "name": "First",
         "type": "string"
        },
        {
         "key": "3",
         "name": "Last",
         "type": "string"
        }
       ],
       "truncated": false
      }
     },
     "type": "Synapse.DataFrame"
    },
    "7b723290-5b65-4544-8ed0-f2e0dcfd7cdd": {
     "persist_state": {
      "view": {
       "chartOptions": {
        "aggregationType": "sum",
        "binsNumber": 10,
        "categoryFieldKeys": [
         "0"
        ],
        "chartType": "bar",
        "isStacked": false,
        "seriesFieldKeys": [
         "4"
        ],
        "wordFrequency": "-1"
       },
       "tableOptions": {},
       "type": "details"
      }
     },
     "sync_state": {
      "isSummary": false,
      "language": "scala",
      "table": {
       "rows": [
        {
         "0": "1477",
         "1": "119",
         "2": "2019-07-01",
         "3": "1",
         "4": "3399.989990234375",
         "5": "271.99920654296875",
         "index": 1
        },
        {
         "0": "5143",
         "1": "120",
         "2": "2019-07-01",
         "3": "1",
         "4": "3399.989990234375",
         "5": "271.99920654296875",
         "index": 2
        },
        {
         "0": "5522",
         "1": "69",
         "2": "2019-07-01",
         "3": "1",
         "4": "699.0982055664062",
         "5": "55.92789840698242",
         "index": 3
        },
        {
         "0": "6173",
         "1": "123",
         "2": "2019-07-01",
         "3": "1",
         "4": "3578.27001953125",
         "5": "286.2615966796875",
         "index": 4
        },
        {
         "0": "9955",
         "1": "125",
         "2": "2019-07-01",
         "3": "1",
         "4": "3374.989990234375",
         "5": "269.99920654296875",
         "index": 5
        },
        {
         "0": "11919",
         "1": "124",
         "2": "2019-07-01",
         "3": "1",
         "4": "3578.27001953125",
         "5": "286.2615966796875",
         "index": 6
        },
        {
         "0": "12032",
         "1": "123",
         "2": "2019-07-01",
         "3": "1",
         "4": "3578.27001953125",
         "5": "286.2615966796875",
         "index": 7
        },
        {
         "0": "12253",
         "1": "119",
         "2": "2019-07-01",
         "3": "1",
         "4": "3399.989990234375",
         "5": "271.99920654296875",
         "index": 8
        },
        {
         "0": "647",
         "1": "28",
         "2": "2019-07-02",
         "3": "1",
         "4": "699.0982055664062",
         "5": "55.92789840698242",
         "index": 9
        },
        {
         "0": "3053",
         "1": "128",
         "2": "2019-07-02",
         "3": "1",
         "4": "3578.27001953125",
         "5": "286.2615966796875",
         "index": 10
        }
       ],
       "schema": [
        {
         "key": "0",
         "name": "CustomerID",
         "type": "bigint"
        },
        {
         "key": "1",
         "name": "ItemID",
         "type": "bigint"
        },
        {
         "key": "2",
         "name": "OrderDate",
         "type": "date"
        },
        {
         "key": "3",
         "name": "Quantity",
         "type": "bigint"
        },
        {
         "key": "4",
         "name": "UnitPrice",
         "type": "double"
        },
        {
         "key": "5",
         "name": "Tax",
         "type": "double"
        }
       ],
       "truncated": false
      }
     },
     "type": "Synapse.DataFrame"
    },
    "835a5a62-d947-4c4f-b0b7-62fbb1d17f79": {
     "persist_state": {
      "view": {
       "chartOptions": {
        "aggregationType": "count",
        "binsNumber": 10,
        "categoryFieldKeys": [
         "0"
        ],
        "chartType": "bar",
        "isStacked": false,
        "seriesFieldKeys": [
         "0"
        ],
        "wordFrequency": "-1"
       },
       "tableOptions": {},
       "type": "details"
      }
     },
     "sync_state": {
      "isSummary": false,
      "language": "scala",
      "table": {
       "rows": [
        {
         "0": "Mountain-200 Black, 42",
         "1": "Mountain-200 Black",
         "2": "42",
         "index": 1
        },
        {
         "0": "Touring-1000 Yellow, 46",
         "1": "Touring-1000 Yellow",
         "2": "46",
         "index": 2
        },
        {
         "0": "Touring-1000 Blue, 54",
         "1": "Touring-1000 Blue",
         "2": "54",
         "index": 3
        },
        {
         "0": "Short-Sleeve Classic Jersey, S",
         "1": "Short-Sleeve Classic Jersey",
         "2": "S",
         "index": 4
        },
        {
         "0": "Women's Mountain Shorts, S",
         "1": "Women's Mountain Shorts",
         "2": "S",
         "index": 5
        },
        {
         "0": "Long-Sleeve Logo Jersey, L",
         "1": "Long-Sleeve Logo Jersey",
         "2": "L",
         "index": 6
        },
        {
         "0": "Mountain-400-W Silver, 42",
         "1": "Mountain-400-W Silver",
         "2": "42",
         "index": 7
        },
        {
         "0": "Racing Socks, M",
         "1": "Racing Socks",
         "2": "M",
         "index": 8
        },
        {
         "0": "Mountain-200 Silver, 42",
         "1": "Mountain-200 Silver",
         "2": "42",
         "index": 9
        },
        {
         "0": "Road-750 Black, 58",
         "1": "Road-750 Black",
         "2": "58",
         "index": 10
        }
       ],
       "schema": [
        {
         "key": "0",
         "name": "Item",
         "type": "string"
        },
        {
         "key": "1",
         "name": "ItemName",
         "type": "string"
        },
        {
         "key": "2",
         "name": "ItemInfo",
         "type": "string"
        }
       ],
       "truncated": false
      }
     },
     "type": "Synapse.DataFrame"
    },
    "bef6e041-fa2d-491e-ae25-e20f2f1b69af": {
     "persist_state": {
      "view": {
       "chartOptions": {
        "aggregationType": "sum",
        "binsNumber": 10,
        "categoryFieldKeys": [
         "4"
        ],
        "chartType": "bar",
        "isStacked": false,
        "seriesFieldKeys": [
         "1"
        ],
        "wordFrequency": "-1"
       },
       "tableOptions": {},
       "type": "details"
      }
     },
     "sync_state": {
      "isSummary": false,
      "language": "scala",
      "table": {
       "rows": [
        {
         "0": "2019-07-01",
         "1": "1",
         "2": "7",
         "3": "2019",
         "4": "Jul-2019",
         "5": "201907",
         "index": 1
        },
        {
         "0": "2019-07-02",
         "1": "2",
         "2": "7",
         "3": "2019",
         "4": "Jul-2019",
         "5": "201907",
         "index": 2
        },
        {
         "0": "2019-07-03",
         "1": "3",
         "2": "7",
         "3": "2019",
         "4": "Jul-2019",
         "5": "201907",
         "index": 3
        },
        {
         "0": "2019-07-04",
         "1": "4",
         "2": "7",
         "3": "2019",
         "4": "Jul-2019",
         "5": "201907",
         "index": 4
        },
        {
         "0": "2019-07-05",
         "1": "5",
         "2": "7",
         "3": "2019",
         "4": "Jul-2019",
         "5": "201907",
         "index": 5
        },
        {
         "0": "2019-07-06",
         "1": "6",
         "2": "7",
         "3": "2019",
         "4": "Jul-2019",
         "5": "201907",
         "index": 6
        },
        {
         "0": "2019-07-07",
         "1": "7",
         "2": "7",
         "3": "2019",
         "4": "Jul-2019",
         "5": "201907",
         "index": 7
        },
        {
         "0": "2019-07-08",
         "1": "8",
         "2": "7",
         "3": "2019",
         "4": "Jul-2019",
         "5": "201907",
         "index": 8
        },
        {
         "0": "2019-07-09",
         "1": "9",
         "2": "7",
         "3": "2019",
         "4": "Jul-2019",
         "5": "201907",
         "index": 9
        },
        {
         "0": "2019-07-10",
         "1": "10",
         "2": "7",
         "3": "2019",
         "4": "Jul-2019",
         "5": "201907",
         "index": 10
        }
       ],
       "schema": [
        {
         "key": "0",
         "name": "OrderDate",
         "type": "date"
        },
        {
         "key": "1",
         "name": "Day",
         "type": "bigint"
        },
        {
         "key": "2",
         "name": "Month",
         "type": "bigint"
        },
        {
         "key": "3",
         "name": "Year",
         "type": "bigint"
        },
        {
         "key": "4",
         "name": "mmmyyyy",
         "type": "string"
        },
        {
         "key": "5",
         "name": "yyyymm",
         "type": "string"
        }
       ],
       "truncated": false
      }
     },
     "type": "Synapse.DataFrame"
    },
    "bf46f484-5728-448e-a00a-2c88d063237e": {
     "persist_state": {
      "view": {
       "chartOptions": {
        "aggregationType": "count",
        "binsNumber": 10,
        "categoryFieldKeys": [
         "0"
        ],
        "chartType": "bar",
        "isStacked": false,
        "seriesFieldKeys": [
         "0"
        ],
        "wordFrequency": "-1"
       },
       "tableOptions": {},
       "type": "details"
      }
     },
     "sync_state": {
      "isSummary": false,
      "language": "scala",
      "table": {
       "rows": [
        {
         "0": "Bridget Andersen",
         "1": "bridget15@adventure-works.com",
         "2": "Bridget",
         "3": "Andersen",
         "4": "1",
         "index": 1
        },
        {
         "0": "Mya Butler",
         "1": "mya14@adventure-works.com",
         "2": "Mya",
         "3": "Butler",
         "4": "2",
         "index": 2
        },
        {
         "0": "Deanna Hernandez",
         "1": "deanna29@adventure-works.com",
         "2": "Deanna",
         "3": "Hernandez",
         "4": "3",
         "index": 3
        },
        {
         "0": "Ricky Navarro",
         "1": "ricky10@adventure-works.com",
         "2": "Ricky",
         "3": "Navarro",
         "4": "4",
         "index": 4
        },
        {
         "0": "Omar Ye",
         "1": "omar9@adventure-works.com",
         "2": "Omar",
         "3": "Ye",
         "4": "5",
         "index": 5
        },
        {
         "0": "Kellie Gutierrez",
         "1": "kellie9@adventure-works.com",
         "2": "Kellie",
         "3": "Gutierrez",
         "4": "6",
         "index": 6
        },
        {
         "0": "Raymond Rana",
         "1": "raymond13@adventure-works.com",
         "2": "Raymond",
         "3": "Rana",
         "4": "7",
         "index": 7
        },
        {
         "0": "Derrick Moreno",
         "1": "derrick6@adventure-works.com",
         "2": "Derrick",
         "3": "Moreno",
         "4": "8",
         "index": 8
        },
        {
         "0": "Megan Walker",
         "1": "megan25@adventure-works.com",
         "2": "Megan",
         "3": "Walker",
         "4": "9",
         "index": 9
        },
        {
         "0": "Edward Jackson",
         "1": "edward34@adventure-works.com",
         "2": "Edward",
         "3": "Jackson",
         "4": "10",
         "index": 10
        }
       ],
       "schema": [
        {
         "key": "0",
         "name": "CustomerName",
         "type": "string"
        },
        {
         "key": "1",
         "name": "Email",
         "type": "string"
        },
        {
         "key": "2",
         "name": "First",
         "type": "string"
        },
        {
         "key": "3",
         "name": "Last",
         "type": "string"
        },
        {
         "key": "4",
         "name": "CustomerID",
         "type": "bigint"
        }
       ],
       "truncated": false
      }
     },
     "type": "Synapse.DataFrame"
    },
    "d34e587d-5739-459d-9d7c-804bde001e5a": {
     "persist_state": {
      "view": {
       "chartOptions": {
        "aggregationType": "count",
        "binsNumber": 10,
        "categoryFieldKeys": [
         "0"
        ],
        "chartType": "bar",
        "isStacked": false,
        "seriesFieldKeys": [
         "0"
        ],
        "wordFrequency": "-1"
       },
       "tableOptions": {},
       "type": "details"
      }
     },
     "sync_state": {
      "isSummary": false,
      "language": "scala",
      "table": {
       "rows": [
        {
         "0": "Mountain-200 Black, 42",
         "1": "Mountain-200 Black",
         "2": "42",
         "3": "1",
         "index": 1
        },
        {
         "0": "Touring-1000 Yellow, 46",
         "1": "Touring-1000 Yellow",
         "2": "46",
         "3": "2",
         "index": 2
        },
        {
         "0": "Touring-1000 Blue, 54",
         "1": "Touring-1000 Blue",
         "2": "54",
         "3": "3",
         "index": 3
        },
        {
         "0": "Short-Sleeve Classic Jersey, S",
         "1": "Short-Sleeve Classic Jersey",
         "2": "S",
         "3": "4",
         "index": 4
        },
        {
         "0": "Women's Mountain Shorts, S",
         "1": "Women's Mountain Shorts",
         "2": "S",
         "3": "5",
         "index": 5
        },
        {
         "0": "Long-Sleeve Logo Jersey, L",
         "1": "Long-Sleeve Logo Jersey",
         "2": "L",
         "3": "6",
         "index": 6
        },
        {
         "0": "Mountain-400-W Silver, 42",
         "1": "Mountain-400-W Silver",
         "2": "42",
         "3": "7",
         "index": 7
        },
        {
         "0": "Racing Socks, M",
         "1": "Racing Socks",
         "2": "M",
         "3": "8",
         "index": 8
        },
        {
         "0": "Mountain-200 Silver, 42",
         "1": "Mountain-200 Silver",
         "2": "42",
         "3": "9",
         "index": 9
        },
        {
         "0": "Road-750 Black, 58",
         "1": "Road-750 Black",
         "2": "58",
         "3": "10",
         "index": 10
        }
       ],
       "schema": [
        {
         "key": "0",
         "name": "Item",
         "type": "string"
        },
        {
         "key": "1",
         "name": "ItemName",
         "type": "string"
        },
        {
         "key": "2",
         "name": "ItemInfo",
         "type": "string"
        },
        {
         "key": "3",
         "name": "ItemID",
         "type": "bigint"
        }
       ],
       "truncated": false
      }
     },
     "type": "Synapse.DataFrame"
    }
   },
   "version": "0.1"
  },
  "widgets": {}
 },
 "nbformat": 4,
 "nbformat_minor": 0
}
